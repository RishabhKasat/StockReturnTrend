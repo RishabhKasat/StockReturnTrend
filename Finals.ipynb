
  {
   "cell_type": "code",
   "execution_count": 2,
   "metadata": {},
   "outputs": [],
   "source": [
    "import pandas as pd\n",
    "import numpy as np\n",
    "import matplotlib.pyplot as plt\n",
    "from datetime import datetime"
   ]
  },
  {
   "cell_type": "code",
   "execution_count": 3,
   "metadata": {},
   "outputs": [],
   "source": [
    "data=pd.read_excel(\"TMO.xlsx\")"
   ]
  },
  {
   "cell_type": "code",
   "execution_count": 4,
   "metadata": {},
   "outputs": [
    {
     "data": {
      "text/html": [
       "<div>\n",
       "<style scoped>\n",
       "    .dataframe tbody tr th:only-of-type {\n",
       "        vertical-align: middle;\n",
       "    }\n",
       "\n",
       "    .dataframe tbody tr th {\n",
       "        vertical-align: top;\n",
       "    }\n",
       "\n",
       "    .dataframe thead th {\n",
       "        text-align: right;\n",
       "    }\n",
       "</style>\n",
       "<table border=\"1\" class=\"dataframe\">\n",
       "  <thead>\n",
       "    <tr style=\"text-align: right;\">\n",
       "      <th></th>\n",
       "      <th>PERMNO</th>\n",
       "      <th>DATE</th>\n",
       "      <th>n</th>\n",
       "      <th>RET</th>\n",
       "      <th>alpha</th>\n",
       "      <th>b_mkt</th>\n",
       "      <th>b_smb</th>\n",
       "      <th>b_hml</th>\n",
       "      <th>ivol</th>\n",
       "      <th>tvol</th>\n",
       "      <th>R2</th>\n",
       "      <th>exret</th>\n",
       "      <th>TICKER</th>\n",
       "    </tr>\n",
       "  </thead>\n",
       "  <tbody>\n",
       "    <tr>\n",
       "      <th>0</th>\n",
       "      <td>62092</td>\n",
       "      <td>20140102</td>\n",
       "      <td>252</td>\n",
       "      <td>-0.015447</td>\n",
       "      <td>0.0010</td>\n",
       "      <td>1.1237</td>\n",
       "      <td>-0.0951</td>\n",
       "      <td>-0.1760</td>\n",
       "      <td>0.008834</td>\n",
       "      <td>0.011700</td>\n",
       "      <td>0.429911</td>\n",
       "      <td>-0.005761</td>\n",
       "      <td>TMO</td>\n",
       "    </tr>\n",
       "    <tr>\n",
       "      <th>1</th>\n",
       "      <td>62092</td>\n",
       "      <td>20140103</td>\n",
       "      <td>252</td>\n",
       "      <td>0.003831</td>\n",
       "      <td>0.0010</td>\n",
       "      <td>1.1222</td>\n",
       "      <td>-0.0911</td>\n",
       "      <td>-0.1744</td>\n",
       "      <td>0.008834</td>\n",
       "      <td>0.011695</td>\n",
       "      <td>0.429404</td>\n",
       "      <td>0.003916</td>\n",
       "      <td>TMO</td>\n",
       "    </tr>\n",
       "    <tr>\n",
       "      <th>2</th>\n",
       "      <td>62092</td>\n",
       "      <td>20140106</td>\n",
       "      <td>252</td>\n",
       "      <td>0.000091</td>\n",
       "      <td>0.0010</td>\n",
       "      <td>1.1211</td>\n",
       "      <td>-0.0953</td>\n",
       "      <td>-0.1744</td>\n",
       "      <td>0.008835</td>\n",
       "      <td>0.011689</td>\n",
       "      <td>0.428676</td>\n",
       "      <td>0.003866</td>\n",
       "      <td>TMO</td>\n",
       "    </tr>\n",
       "    <tr>\n",
       "      <th>3</th>\n",
       "      <td>62092</td>\n",
       "      <td>20140107</td>\n",
       "      <td>252</td>\n",
       "      <td>0.020443</td>\n",
       "      <td>0.0010</td>\n",
       "      <td>1.1287</td>\n",
       "      <td>-0.0866</td>\n",
       "      <td>-0.1824</td>\n",
       "      <td>0.008844</td>\n",
       "      <td>0.011740</td>\n",
       "      <td>0.432532</td>\n",
       "      <td>0.012512</td>\n",
       "      <td>TMO</td>\n",
       "    </tr>\n",
       "    <tr>\n",
       "      <th>4</th>\n",
       "      <td>62092</td>\n",
       "      <td>20140108</td>\n",
       "      <td>252</td>\n",
       "      <td>0.015404</td>\n",
       "      <td>0.0011</td>\n",
       "      <td>1.1271</td>\n",
       "      <td>-0.0861</td>\n",
       "      <td>-0.1885</td>\n",
       "      <td>0.008882</td>\n",
       "      <td>0.011757</td>\n",
       "      <td>0.429273</td>\n",
       "      <td>0.014760</td>\n",
       "      <td>TMO</td>\n",
       "    </tr>\n",
       "  </tbody>\n",
       "</table>\n",
       "</div>"
      ],
      "text/plain": [
       "   PERMNO      DATE    n       RET   alpha   b_mkt   b_smb   b_hml      ivol  \\\n",
       "0   62092  20140102  252 -0.015447  0.0010  1.1237 -0.0951 -0.1760  0.008834   \n",
       "1   62092  20140103  252  0.003831  0.0010  1.1222 -0.0911 -0.1744  0.008834   \n",
       "2   62092  20140106  252  0.000091  0.0010  1.1211 -0.0953 -0.1744  0.008835   \n",
       "3   62092  20140107  252  0.020443  0.0010  1.1287 -0.0866 -0.1824  0.008844   \n",
       "4   62092  20140108  252  0.015404  0.0011  1.1271 -0.0861 -0.1885  0.008882   \n",
       "\n",
       "       tvol        R2     exret TICKER  \n",
       "0  0.011700  0.429911 -0.005761    TMO  \n",
       "1  0.011695  0.429404  0.003916    TMO  \n",
       "2  0.011689  0.428676  0.003866    TMO  \n",
       "3  0.011740  0.432532  0.012512    TMO  \n",
       "4  0.011757  0.429273  0.014760    TMO  "
      ]
     },
     "execution_count": 4,
     "metadata": {},
     "output_type": "execute_result"
    }
   ],
   "source": [
    "data.head()"
   ]
  },
  {
   "cell_type": "code",
   "execution_count": 5,
   "metadata": {},
   "outputs": [
    {
     "data": {
      "text/plain": [
       "0      2014-01-02\n",
       "1      2014-01-03\n",
       "2      2014-01-06\n",
       "3      2014-01-07\n",
       "4      2014-01-08\n",
       "          ...    \n",
       "1505   2019-12-24\n",
       "1506   2019-12-26\n",
       "1507   2019-12-27\n",
       "1508   2019-12-30\n",
       "1509   2019-12-31\n",
       "Name: DATE, Length: 1510, dtype: datetime64[ns]"
      ]
     },
     "execution_count": 5,
     "metadata": {},
     "output_type": "execute_result"
    }
   ],
   "source": [
    "pd.to_datetime(data['DATE'],format='%Y%m%d')"
   ]
  },
  {
   "cell_type": "code",
   "execution_count": 6,
   "metadata": {},
   "outputs": [],
   "source": [
    "data['DATE']=pd.to_datetime(data['DATE'],format='%Y%m%d')"
   ]
  },
  {
   "cell_type": "code",
   "execution_count": 7,
   "metadata": {},
   "outputs": [
    {
     "data": {
      "text/html": [
       "<div>\n",
       "<style scoped>\n",
       "    .dataframe tbody tr th:only-of-type {\n",
       "        vertical-align: middle;\n",
       "    }\n",
       "\n",
       "    .dataframe tbody tr th {\n",
       "        vertical-align: top;\n",
       "    }\n",
       "\n",
       "    .dataframe thead th {\n",
       "        text-align: right;\n",
       "    }\n",
       "</style>\n",
       "<table border=\"1\" class=\"dataframe\">\n",
       "  <thead>\n",
       "    <tr style=\"text-align: right;\">\n",
       "      <th></th>\n",
       "      <th>PERMNO</th>\n",
       "      <th>DATE</th>\n",
       "      <th>n</th>\n",
       "      <th>RET</th>\n",
       "      <th>alpha</th>\n",
       "      <th>b_mkt</th>\n",
       "      <th>b_smb</th>\n",
       "      <th>b_hml</th>\n",
       "      <th>ivol</th>\n",
       "      <th>tvol</th>\n",
       "      <th>R2</th>\n",
       "      <th>exret</th>\n",
       "      <th>TICKER</th>\n",
       "    </tr>\n",
       "  </thead>\n",
       "  <tbody>\n",
       "    <tr>\n",
       "      <th>0</th>\n",
       "      <td>62092</td>\n",
       "      <td>2014-01-02</td>\n",
       "      <td>252</td>\n",
       "      <td>-0.015447</td>\n",
       "      <td>0.0010</td>\n",
       "      <td>1.1237</td>\n",
       "      <td>-0.0951</td>\n",
       "      <td>-0.1760</td>\n",
       "      <td>0.008834</td>\n",
       "      <td>0.011700</td>\n",
       "      <td>0.429911</td>\n",
       "      <td>-0.005761</td>\n",
       "      <td>TMO</td>\n",
       "    </tr>\n",
       "    <tr>\n",
       "      <th>1</th>\n",
       "      <td>62092</td>\n",
       "      <td>2014-01-03</td>\n",
       "      <td>252</td>\n",
       "      <td>0.003831</td>\n",
       "      <td>0.0010</td>\n",
       "      <td>1.1222</td>\n",
       "      <td>-0.0911</td>\n",
       "      <td>-0.1744</td>\n",
       "      <td>0.008834</td>\n",
       "      <td>0.011695</td>\n",
       "      <td>0.429404</td>\n",
       "      <td>0.003916</td>\n",
       "      <td>TMO</td>\n",
       "    </tr>\n",
       "    <tr>\n",
       "      <th>2</th>\n",
       "      <td>62092</td>\n",
       "      <td>2014-01-06</td>\n",
       "      <td>252</td>\n",
       "      <td>0.000091</td>\n",
       "      <td>0.0010</td>\n",
       "      <td>1.1211</td>\n",
       "      <td>-0.0953</td>\n",
       "      <td>-0.1744</td>\n",
       "      <td>0.008835</td>\n",
       "      <td>0.011689</td>\n",
       "      <td>0.428676</td>\n",
       "      <td>0.003866</td>\n",
       "      <td>TMO</td>\n",
       "    </tr>\n",
       "    <tr>\n",
       "      <th>3</th>\n",
       "      <td>62092</td>\n",
       "      <td>2014-01-07</td>\n",
       "      <td>252</td>\n",
       "      <td>0.020443</td>\n",
       "      <td>0.0010</td>\n",
       "      <td>1.1287</td>\n",
       "      <td>-0.0866</td>\n",
       "      <td>-0.1824</td>\n",
       "      <td>0.008844</td>\n",
       "      <td>0.011740</td>\n",
       "      <td>0.432532</td>\n",
       "      <td>0.012512</td>\n",
       "      <td>TMO</td>\n",
       "    </tr>\n",
       "    <tr>\n",
       "      <th>4</th>\n",
       "      <td>62092</td>\n",
       "      <td>2014-01-08</td>\n",
       "      <td>252</td>\n",
       "      <td>0.015404</td>\n",
       "      <td>0.0011</td>\n",
       "      <td>1.1271</td>\n",
       "      <td>-0.0861</td>\n",
       "      <td>-0.1885</td>\n",
       "      <td>0.008882</td>\n",
       "      <td>0.011757</td>\n",
       "      <td>0.429273</td>\n",
       "      <td>0.014760</td>\n",
       "      <td>TMO</td>\n",
       "    </tr>\n",
       "  </tbody>\n",
       "</table>\n",
       "</div>"
      ],
      "text/plain": [
       "   PERMNO       DATE    n       RET   alpha   b_mkt   b_smb   b_hml      ivol  \\\n",
       "0   62092 2014-01-02  252 -0.015447  0.0010  1.1237 -0.0951 -0.1760  0.008834   \n",
       "1   62092 2014-01-03  252  0.003831  0.0010  1.1222 -0.0911 -0.1744  0.008834   \n",
       "2   62092 2014-01-06  252  0.000091  0.0010  1.1211 -0.0953 -0.1744  0.008835   \n",
       "3   62092 2014-01-07  252  0.020443  0.0010  1.1287 -0.0866 -0.1824  0.008844   \n",
       "4   62092 2014-01-08  252  0.015404  0.0011  1.1271 -0.0861 -0.1885  0.008882   \n",
       "\n",
       "       tvol        R2     exret TICKER  \n",
       "0  0.011700  0.429911 -0.005761    TMO  \n",
       "1  0.011695  0.429404  0.003916    TMO  \n",
       "2  0.011689  0.428676  0.003866    TMO  \n",
       "3  0.011740  0.432532  0.012512    TMO  \n",
       "4  0.011757  0.429273  0.014760    TMO  "
      ]
     },
     "execution_count": 7,
     "metadata": {},
     "output_type": "execute_result"
    }
   ],
   "source": [
    "data.head()"
   ]
  },
  {
   "cell_type": "code",
   "execution_count": 143,
   "metadata": {},
   "outputs": [
    {
     "data": {
      "text/plain": [
       "Text(0.5, 1.0, 'Daily Exret')"
      ]
     },
     "execution_count": 143,
     "metadata": {},
     "output_type": "execute_result"
    },
    {
     "data": {
      "image/png": "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\n",
      "text/plain": [
       "<Figure size 1440x720 with 1 Axes>"
      ]
     },
     "metadata": {
      "needs_background": "light"
     },
     "output_type": "display_data"
    }
   ],
   "source": [
    "plt.figure(figsize=(20,10))\n",
    "plt.plot(data['DATE'],data['exret'],'r-.')\n",
    "plt.title(\"Daily Exret\")"
   ]
  },
  {
   "cell_type": "code",
   "execution_count": 9,
   "metadata": {},
   "outputs": [],
   "source": [
    "data.drop(['PERMNO','n','TICKER','R2'],axis=1,inplace=True)"
   ]
  },
  {
   "cell_type": "code",
   "execution_count": 73,
   "metadata": {},
   "outputs": [
    {
     "name": "stdout",
     "output_type": "stream",
     "text": [
      "Range DATE = 2189 days 00:00:00\n",
      "Range RET = 0.123094\n",
      "Range alpha = 0.0018999999999999998\n",
      "Range b_mkt = 0.7058000000000001\n",
      "Range b_smb = 0.7477\n",
      "Range b_hml = 0.5692\n",
      "Range ivol = 0.003575000000000001\n",
      "Range tvol = 0.005908\n",
      "Range exret = 0.121561\n"
     ]
    }
   ],
   "source": [
    "for i in data.columns:\n",
    "    print(\"Range\",i,\"=\",data[i].max()-data[i].min())"
   ]
  },
  {
   "cell_type": "code",
   "execution_count": 75,
   "metadata": {},
   "outputs": [
    {
     "data": {
      "text/plain": [
       "'for i in range(1,8):\\n    fig, ax = plt.subplots()\\n    ax.boxplot(data[data.columns[i]])\\n    ax.set_xlabel(data.columns[i])\\n    plt.show()'"
      ]
     },
     "execution_count": 75,
     "metadata": {},
     "output_type": "execute_result"
    }
   ],
   "source": [
    "'''for i in range(1,8):\n",
    "    fig, ax = plt.subplots()\n",
    "    ax.boxplot(data[data.columns[i]])\n",
    "    ax.set_xlabel(data.columns[i])\n",
    "    plt.show()'''"
   ]
  },
  {
   "cell_type": "code",
   "execution_count": 76,
   "metadata": {},
   "outputs": [
    {
     "data": {
      "text/html": [
       "<div>\n",
       "<style scoped>\n",
       "    .dataframe tbody tr th:only-of-type {\n",
       "        vertical-align: middle;\n",
       "    }\n",
       "\n",
       "    .dataframe tbody tr th {\n",
       "        vertical-align: top;\n",
       "    }\n",
       "\n",
       "    .dataframe thead th {\n",
       "        text-align: right;\n",
       "    }\n",
       "</style>\n",
       "<table border=\"1\" class=\"dataframe\">\n",
       "  <thead>\n",
       "    <tr style=\"text-align: right;\">\n",
       "      <th></th>\n",
       "      <th>RET</th>\n",
       "      <th>alpha</th>\n",
       "      <th>b_mkt</th>\n",
       "      <th>b_smb</th>\n",
       "      <th>b_hml</th>\n",
       "      <th>ivol</th>\n",
       "      <th>tvol</th>\n",
       "      <th>exret</th>\n",
       "    </tr>\n",
       "  </thead>\n",
       "  <tbody>\n",
       "    <tr>\n",
       "      <th>RET</th>\n",
       "      <td>1.000000</td>\n",
       "      <td>0.031653</td>\n",
       "      <td>-0.007705</td>\n",
       "      <td>0.008362</td>\n",
       "      <td>-0.006812</td>\n",
       "      <td>0.034486</td>\n",
       "      <td>0.019935</td>\n",
       "      <td>0.700536</td>\n",
       "    </tr>\n",
       "    <tr>\n",
       "      <th>alpha</th>\n",
       "      <td>0.031653</td>\n",
       "      <td>1.000000</td>\n",
       "      <td>-0.463027</td>\n",
       "      <td>0.367925</td>\n",
       "      <td>0.715833</td>\n",
       "      <td>0.185994</td>\n",
       "      <td>0.150471</td>\n",
       "      <td>0.066079</td>\n",
       "    </tr>\n",
       "    <tr>\n",
       "      <th>b_mkt</th>\n",
       "      <td>-0.007705</td>\n",
       "      <td>-0.463027</td>\n",
       "      <td>1.000000</td>\n",
       "      <td>-0.540053</td>\n",
       "      <td>-0.133841</td>\n",
       "      <td>-0.556930</td>\n",
       "      <td>0.016677</td>\n",
       "      <td>-0.015555</td>\n",
       "    </tr>\n",
       "    <tr>\n",
       "      <th>b_smb</th>\n",
       "      <td>0.008362</td>\n",
       "      <td>0.367925</td>\n",
       "      <td>-0.540053</td>\n",
       "      <td>1.000000</td>\n",
       "      <td>0.389387</td>\n",
       "      <td>0.335694</td>\n",
       "      <td>-0.299626</td>\n",
       "      <td>0.016732</td>\n",
       "    </tr>\n",
       "    <tr>\n",
       "      <th>b_hml</th>\n",
       "      <td>-0.006812</td>\n",
       "      <td>0.715833</td>\n",
       "      <td>-0.133841</td>\n",
       "      <td>0.389387</td>\n",
       "      <td>1.000000</td>\n",
       "      <td>0.068668</td>\n",
       "      <td>0.069011</td>\n",
       "      <td>0.005602</td>\n",
       "    </tr>\n",
       "    <tr>\n",
       "      <th>ivol</th>\n",
       "      <td>0.034486</td>\n",
       "      <td>0.185994</td>\n",
       "      <td>-0.556930</td>\n",
       "      <td>0.335694</td>\n",
       "      <td>0.068668</td>\n",
       "      <td>1.000000</td>\n",
       "      <td>0.339165</td>\n",
       "      <td>0.031775</td>\n",
       "    </tr>\n",
       "    <tr>\n",
       "      <th>tvol</th>\n",
       "      <td>0.019935</td>\n",
       "      <td>0.150471</td>\n",
       "      <td>0.016677</td>\n",
       "      <td>-0.299626</td>\n",
       "      <td>0.069011</td>\n",
       "      <td>0.339165</td>\n",
       "      <td>1.000000</td>\n",
       "      <td>0.005138</td>\n",
       "    </tr>\n",
       "    <tr>\n",
       "      <th>exret</th>\n",
       "      <td>0.700536</td>\n",
       "      <td>0.066079</td>\n",
       "      <td>-0.015555</td>\n",
       "      <td>0.016732</td>\n",
       "      <td>0.005602</td>\n",
       "      <td>0.031775</td>\n",
       "      <td>0.005138</td>\n",
       "      <td>1.000000</td>\n",
       "    </tr>\n",
       "  </tbody>\n",
       "</table>\n",
       "</div>"
      ],
      "text/plain": [
       "            RET     alpha     b_mkt     b_smb     b_hml      ivol      tvol  \\\n",
       "RET    1.000000  0.031653 -0.007705  0.008362 -0.006812  0.034486  0.019935   \n",
       "alpha  0.031653  1.000000 -0.463027  0.367925  0.715833  0.185994  0.150471   \n",
       "b_mkt -0.007705 -0.463027  1.000000 -0.540053 -0.133841 -0.556930  0.016677   \n",
       "b_smb  0.008362  0.367925 -0.540053  1.000000  0.389387  0.335694 -0.299626   \n",
       "b_hml -0.006812  0.715833 -0.133841  0.389387  1.000000  0.068668  0.069011   \n",
       "ivol   0.034486  0.185994 -0.556930  0.335694  0.068668  1.000000  0.339165   \n",
       "tvol   0.019935  0.150471  0.016677 -0.299626  0.069011  0.339165  1.000000   \n",
       "exret  0.700536  0.066079 -0.015555  0.016732  0.005602  0.031775  0.005138   \n",
       "\n",
       "          exret  \n",
       "RET    0.700536  \n",
       "alpha  0.066079  \n",
       "b_mkt -0.015555  \n",
       "b_smb  0.016732  \n",
       "b_hml  0.005602  \n",
       "ivol   0.031775  \n",
       "tvol   0.005138  \n",
       "exret  1.000000  "
      ]
     },
     "execution_count": 76,
     "metadata": {},
     "output_type": "execute_result"
    }
   ],
   "source": [
    "data.corr()"
   ]
  },
  {
   "cell_type": "code",
   "execution_count": 13,
   "metadata": {},
   "outputs": [],
   "source": [
    "#since RET is hoghly correlated with exret we will drop RET\n",
    "# since B_hml is also highly correlated with alpha we will drop b_hml"
   ]
  },
  {
   "cell_type": "code",
   "execution_count": 37,
   "metadata": {},
   "outputs": [],
   "source": []
  },
  {
   "cell_type": "code",
   "execution_count": 77,
   "metadata": {},
   "outputs": [],
   "source": [
    "from sklearn import preprocessing\n",
    "\n",
    "x = data[['alpha','b_mkt','b_smb','b_hml','ivol','tvol','exret']] #returns a numpy array\n",
    "min_max_scaler = preprocessing.MinMaxScaler()\n",
    "x_scaled = min_max_scaler.fit_transform(x)\n",
    "df = pd.DataFrame(x_scaled)\n",
    "df['DATE']=data['DATE']\n",
    "#df['exret']=data['exret']\n",
    "df.rename(columns={0: \"alpha\", 1: \"b_mkt\",2:\"b_smb\",3:\"b_hml\",4:\"ivol\",5:\"tvol\",6:\"exret\"},inplace=True)"
   ]
  },
  {
   "cell_type": "code",
   "execution_count": 78,
   "metadata": {},
   "outputs": [],
   "source": [
    "#even after scaling the data alpha has relatively less importance so we will drop alpha in our further alculations"
   ]
  },
  {
   "cell_type": "code",
   "execution_count": 79,
   "metadata": {},
   "outputs": [],
   "source": [
    "df=df.set_index(data['DATE'])"
   ]
  },
  {
   "cell_type": "code",
   "execution_count": 80,
   "metadata": {},
   "outputs": [
    {
     "data": {
      "text/html": [
       "<div>\n",
       "<style scoped>\n",
       "    .dataframe tbody tr th:only-of-type {\n",
       "        vertical-align: middle;\n",
       "    }\n",
       "\n",
       "    .dataframe tbody tr th {\n",
       "        vertical-align: top;\n",
       "    }\n",
       "\n",
       "    .dataframe thead th {\n",
       "        text-align: right;\n",
       "    }\n",
       "</style>\n",
       "<table border=\"1\" class=\"dataframe\">\n",
       "  <thead>\n",
       "    <tr style=\"text-align: right;\">\n",
       "      <th></th>\n",
       "      <th>alpha</th>\n",
       "      <th>b_mkt</th>\n",
       "      <th>b_smb</th>\n",
       "      <th>b_hml</th>\n",
       "      <th>ivol</th>\n",
       "      <th>tvol</th>\n",
       "      <th>exret</th>\n",
       "      <th>DATE</th>\n",
       "    </tr>\n",
       "    <tr>\n",
       "      <th>DATE</th>\n",
       "      <th></th>\n",
       "      <th></th>\n",
       "      <th></th>\n",
       "      <th></th>\n",
       "      <th></th>\n",
       "      <th></th>\n",
       "      <th></th>\n",
       "      <th></th>\n",
       "    </tr>\n",
       "  </thead>\n",
       "  <tbody>\n",
       "    <tr>\n",
       "      <th>2014-01-02</th>\n",
       "      <td>0.894737</td>\n",
       "      <td>0.730519</td>\n",
       "      <td>0.431858</td>\n",
       "      <td>0.801300</td>\n",
       "      <td>0.504336</td>\n",
       "      <td>0.282837</td>\n",
       "      <td>0.431742</td>\n",
       "      <td>2014-01-02</td>\n",
       "    </tr>\n",
       "    <tr>\n",
       "      <th>2014-01-03</th>\n",
       "      <td>0.894737</td>\n",
       "      <td>0.728393</td>\n",
       "      <td>0.437207</td>\n",
       "      <td>0.804111</td>\n",
       "      <td>0.504336</td>\n",
       "      <td>0.281991</td>\n",
       "      <td>0.511348</td>\n",
       "      <td>2014-01-03</td>\n",
       "    </tr>\n",
       "    <tr>\n",
       "      <th>2014-01-06</th>\n",
       "      <td>0.894737</td>\n",
       "      <td>0.726835</td>\n",
       "      <td>0.431590</td>\n",
       "      <td>0.804111</td>\n",
       "      <td>0.504615</td>\n",
       "      <td>0.280975</td>\n",
       "      <td>0.510937</td>\n",
       "      <td>2014-01-06</td>\n",
       "    </tr>\n",
       "    <tr>\n",
       "      <th>2014-01-07</th>\n",
       "      <td>0.894737</td>\n",
       "      <td>0.737603</td>\n",
       "      <td>0.443226</td>\n",
       "      <td>0.790056</td>\n",
       "      <td>0.507133</td>\n",
       "      <td>0.289607</td>\n",
       "      <td>0.582062</td>\n",
       "      <td>2014-01-07</td>\n",
       "    </tr>\n",
       "    <tr>\n",
       "      <th>2014-01-08</th>\n",
       "      <td>0.947368</td>\n",
       "      <td>0.735336</td>\n",
       "      <td>0.443895</td>\n",
       "      <td>0.779339</td>\n",
       "      <td>0.517762</td>\n",
       "      <td>0.292485</td>\n",
       "      <td>0.600554</td>\n",
       "      <td>2014-01-08</td>\n",
       "    </tr>\n",
       "  </tbody>\n",
       "</table>\n",
       "</div>"
      ],
      "text/plain": [
       "               alpha     b_mkt     b_smb     b_hml      ivol      tvol  \\\n",
       "DATE                                                                     \n",
       "2014-01-02  0.894737  0.730519  0.431858  0.801300  0.504336  0.282837   \n",
       "2014-01-03  0.894737  0.728393  0.437207  0.804111  0.504336  0.281991   \n",
       "2014-01-06  0.894737  0.726835  0.431590  0.804111  0.504615  0.280975   \n",
       "2014-01-07  0.894737  0.737603  0.443226  0.790056  0.507133  0.289607   \n",
       "2014-01-08  0.947368  0.735336  0.443895  0.779339  0.517762  0.292485   \n",
       "\n",
       "               exret       DATE  \n",
       "DATE                             \n",
       "2014-01-02  0.431742 2014-01-02  \n",
       "2014-01-03  0.511348 2014-01-03  \n",
       "2014-01-06  0.510937 2014-01-06  \n",
       "2014-01-07  0.582062 2014-01-07  \n",
       "2014-01-08  0.600554 2014-01-08  "
      ]
     },
     "execution_count": 80,
     "metadata": {},
     "output_type": "execute_result"
    }
   ],
   "source": [
    "df.head()"
   ]
  },
  {
   "cell_type": "code",
   "execution_count": 81,
   "metadata": {},
   "outputs": [],
   "source": [
    "#since we want to predict next days trend using current days data\n",
    "# I will shift exret column up by (1) and name it tomorrows_exret. \n",
    "#further I will create a new colum that will be the difference between exret and tomorrows_exret and name in trend and if the value is >0\n",
    "# the value in trend will be 1 , if difference is less than 0 it will be -1 and 0 of the difference is 0"
   ]
  },
  {
   "cell_type": "code",
   "execution_count": 82,
   "metadata": {},
   "outputs": [],
   "source": [
    "df['tomorrows_exret']=df['exret'].shift(-1)"
   ]
  },
  {
   "cell_type": "code",
   "execution_count": 83,
   "metadata": {},
   "outputs": [
    {
     "data": {
      "text/html": [
       "<div>\n",
       "<style scoped>\n",
       "    .dataframe tbody tr th:only-of-type {\n",
       "        vertical-align: middle;\n",
       "    }\n",
       "\n",
       "    .dataframe tbody tr th {\n",
       "        vertical-align: top;\n",
       "    }\n",
       "\n",
       "    .dataframe thead th {\n",
       "        text-align: right;\n",
       "    }\n",
       "</style>\n",
       "<table border=\"1\" class=\"dataframe\">\n",
       "  <thead>\n",
       "    <tr style=\"text-align: right;\">\n",
       "      <th></th>\n",
       "      <th>alpha</th>\n",
       "      <th>b_mkt</th>\n",
       "      <th>b_smb</th>\n",
       "      <th>b_hml</th>\n",
       "      <th>ivol</th>\n",
       "      <th>tvol</th>\n",
       "      <th>exret</th>\n",
       "      <th>DATE</th>\n",
       "      <th>tomorrows_exret</th>\n",
       "    </tr>\n",
       "    <tr>\n",
       "      <th>DATE</th>\n",
       "      <th></th>\n",
       "      <th></th>\n",
       "      <th></th>\n",
       "      <th></th>\n",
       "      <th></th>\n",
       "      <th></th>\n",
       "      <th></th>\n",
       "      <th></th>\n",
       "      <th></th>\n",
       "    </tr>\n",
       "  </thead>\n",
       "  <tbody>\n",
       "    <tr>\n",
       "      <th>2014-01-02</th>\n",
       "      <td>0.894737</td>\n",
       "      <td>0.730519</td>\n",
       "      <td>0.431858</td>\n",
       "      <td>0.801300</td>\n",
       "      <td>0.504336</td>\n",
       "      <td>0.282837</td>\n",
       "      <td>0.431742</td>\n",
       "      <td>2014-01-02</td>\n",
       "      <td>0.511348</td>\n",
       "    </tr>\n",
       "    <tr>\n",
       "      <th>2014-01-03</th>\n",
       "      <td>0.894737</td>\n",
       "      <td>0.728393</td>\n",
       "      <td>0.437207</td>\n",
       "      <td>0.804111</td>\n",
       "      <td>0.504336</td>\n",
       "      <td>0.281991</td>\n",
       "      <td>0.511348</td>\n",
       "      <td>2014-01-03</td>\n",
       "      <td>0.510937</td>\n",
       "    </tr>\n",
       "    <tr>\n",
       "      <th>2014-01-06</th>\n",
       "      <td>0.894737</td>\n",
       "      <td>0.726835</td>\n",
       "      <td>0.431590</td>\n",
       "      <td>0.804111</td>\n",
       "      <td>0.504615</td>\n",
       "      <td>0.280975</td>\n",
       "      <td>0.510937</td>\n",
       "      <td>2014-01-06</td>\n",
       "      <td>0.582062</td>\n",
       "    </tr>\n",
       "    <tr>\n",
       "      <th>2014-01-07</th>\n",
       "      <td>0.894737</td>\n",
       "      <td>0.737603</td>\n",
       "      <td>0.443226</td>\n",
       "      <td>0.790056</td>\n",
       "      <td>0.507133</td>\n",
       "      <td>0.289607</td>\n",
       "      <td>0.582062</td>\n",
       "      <td>2014-01-07</td>\n",
       "      <td>0.600554</td>\n",
       "    </tr>\n",
       "    <tr>\n",
       "      <th>2014-01-08</th>\n",
       "      <td>0.947368</td>\n",
       "      <td>0.735336</td>\n",
       "      <td>0.443895</td>\n",
       "      <td>0.779339</td>\n",
       "      <td>0.517762</td>\n",
       "      <td>0.292485</td>\n",
       "      <td>0.600554</td>\n",
       "      <td>2014-01-08</td>\n",
       "      <td>0.469378</td>\n",
       "    </tr>\n",
       "  </tbody>\n",
       "</table>\n",
       "</div>"
      ],
      "text/plain": [
       "               alpha     b_mkt     b_smb     b_hml      ivol      tvol  \\\n",
       "DATE                                                                     \n",
       "2014-01-02  0.894737  0.730519  0.431858  0.801300  0.504336  0.282837   \n",
       "2014-01-03  0.894737  0.728393  0.437207  0.804111  0.504336  0.281991   \n",
       "2014-01-06  0.894737  0.726835  0.431590  0.804111  0.504615  0.280975   \n",
       "2014-01-07  0.894737  0.737603  0.443226  0.790056  0.507133  0.289607   \n",
       "2014-01-08  0.947368  0.735336  0.443895  0.779339  0.517762  0.292485   \n",
       "\n",
       "               exret       DATE  tomorrows_exret  \n",
       "DATE                                              \n",
       "2014-01-02  0.431742 2014-01-02         0.511348  \n",
       "2014-01-03  0.511348 2014-01-03         0.510937  \n",
       "2014-01-06  0.510937 2014-01-06         0.582062  \n",
       "2014-01-07  0.582062 2014-01-07         0.600554  \n",
       "2014-01-08  0.600554 2014-01-08         0.469378  "
      ]
     },
     "execution_count": 83,
     "metadata": {},
     "output_type": "execute_result"
    }
   ],
   "source": [
    "df.head()"
   ]
  },
  {
   "cell_type": "code",
   "execution_count": 84,
   "metadata": {},
   "outputs": [
    {
     "data": {
      "text/html": [
       "<div>\n",
       "<style scoped>\n",
       "    .dataframe tbody tr th:only-of-type {\n",
       "        vertical-align: middle;\n",
       "    }\n",
       "\n",
       "    .dataframe tbody tr th {\n",
       "        vertical-align: top;\n",
       "    }\n",
       "\n",
       "    .dataframe thead th {\n",
       "        text-align: right;\n",
       "    }\n",
       "</style>\n",
       "<table border=\"1\" class=\"dataframe\">\n",
       "  <thead>\n",
       "    <tr style=\"text-align: right;\">\n",
       "      <th></th>\n",
       "      <th>alpha</th>\n",
       "      <th>b_mkt</th>\n",
       "      <th>b_smb</th>\n",
       "      <th>b_hml</th>\n",
       "      <th>ivol</th>\n",
       "      <th>tvol</th>\n",
       "      <th>exret</th>\n",
       "      <th>DATE</th>\n",
       "      <th>tomorrows_exret</th>\n",
       "      <th>val</th>\n",
       "    </tr>\n",
       "    <tr>\n",
       "      <th>DATE</th>\n",
       "      <th></th>\n",
       "      <th></th>\n",
       "      <th></th>\n",
       "      <th></th>\n",
       "      <th></th>\n",
       "      <th></th>\n",
       "      <th></th>\n",
       "      <th></th>\n",
       "      <th></th>\n",
       "      <th></th>\n",
       "    </tr>\n",
       "  </thead>\n",
       "  <tbody>\n",
       "    <tr>\n",
       "      <th>2014-01-02</th>\n",
       "      <td>0.894737</td>\n",
       "      <td>0.730519</td>\n",
       "      <td>0.431858</td>\n",
       "      <td>0.801300</td>\n",
       "      <td>0.504336</td>\n",
       "      <td>0.282837</td>\n",
       "      <td>0.431742</td>\n",
       "      <td>2014-01-02</td>\n",
       "      <td>0.511348</td>\n",
       "      <td>0.079606</td>\n",
       "    </tr>\n",
       "    <tr>\n",
       "      <th>2014-01-03</th>\n",
       "      <td>0.894737</td>\n",
       "      <td>0.728393</td>\n",
       "      <td>0.437207</td>\n",
       "      <td>0.804111</td>\n",
       "      <td>0.504336</td>\n",
       "      <td>0.281991</td>\n",
       "      <td>0.511348</td>\n",
       "      <td>2014-01-03</td>\n",
       "      <td>0.510937</td>\n",
       "      <td>-0.000411</td>\n",
       "    </tr>\n",
       "    <tr>\n",
       "      <th>2014-01-06</th>\n",
       "      <td>0.894737</td>\n",
       "      <td>0.726835</td>\n",
       "      <td>0.431590</td>\n",
       "      <td>0.804111</td>\n",
       "      <td>0.504615</td>\n",
       "      <td>0.280975</td>\n",
       "      <td>0.510937</td>\n",
       "      <td>2014-01-06</td>\n",
       "      <td>0.582062</td>\n",
       "      <td>0.071125</td>\n",
       "    </tr>\n",
       "    <tr>\n",
       "      <th>2014-01-07</th>\n",
       "      <td>0.894737</td>\n",
       "      <td>0.737603</td>\n",
       "      <td>0.443226</td>\n",
       "      <td>0.790056</td>\n",
       "      <td>0.507133</td>\n",
       "      <td>0.289607</td>\n",
       "      <td>0.582062</td>\n",
       "      <td>2014-01-07</td>\n",
       "      <td>0.600554</td>\n",
       "      <td>0.018493</td>\n",
       "    </tr>\n",
       "    <tr>\n",
       "      <th>2014-01-08</th>\n",
       "      <td>0.947368</td>\n",
       "      <td>0.735336</td>\n",
       "      <td>0.443895</td>\n",
       "      <td>0.779339</td>\n",
       "      <td>0.517762</td>\n",
       "      <td>0.292485</td>\n",
       "      <td>0.600554</td>\n",
       "      <td>2014-01-08</td>\n",
       "      <td>0.469378</td>\n",
       "      <td>-0.131177</td>\n",
       "    </tr>\n",
       "  </tbody>\n",
       "</table>\n",
       "</div>"
      ],
      "text/plain": [
       "               alpha     b_mkt     b_smb     b_hml      ivol      tvol  \\\n",
       "DATE                                                                     \n",
       "2014-01-02  0.894737  0.730519  0.431858  0.801300  0.504336  0.282837   \n",
       "2014-01-03  0.894737  0.728393  0.437207  0.804111  0.504336  0.281991   \n",
       "2014-01-06  0.894737  0.726835  0.431590  0.804111  0.504615  0.280975   \n",
       "2014-01-07  0.894737  0.737603  0.443226  0.790056  0.507133  0.289607   \n",
       "2014-01-08  0.947368  0.735336  0.443895  0.779339  0.517762  0.292485   \n",
       "\n",
       "               exret       DATE  tomorrows_exret       val  \n",
       "DATE                                                        \n",
       "2014-01-02  0.431742 2014-01-02         0.511348  0.079606  \n",
       "2014-01-03  0.511348 2014-01-03         0.510937 -0.000411  \n",
       "2014-01-06  0.510937 2014-01-06         0.582062  0.071125  \n",
       "2014-01-07  0.582062 2014-01-07         0.600554  0.018493  \n",
       "2014-01-08  0.600554 2014-01-08         0.469378 -0.131177  "
      ]
     },
     "execution_count": 84,
     "metadata": {},
     "output_type": "execute_result"
    }
   ],
   "source": [
    "df['val']=df['tomorrows_exret']-df['exret']\n",
    "df.head()"
   ]
  },
  {
   "cell_type": "code",
   "execution_count": 85,
   "metadata": {},
   "outputs": [],
   "source": [
    "def flag(df):\n",
    "    if(df['val'])>0:\n",
    "        return 1\n",
    "    elif(df['val'])<0:\n",
    "        return -1\n",
    "    else:\n",
    "        return 0\n",
    "df['Trend']=df.apply(flag,axis=1)"
   ]
  },
  {
   "cell_type": "code",
   "execution_count": 108,
   "metadata": {},
   "outputs": [
    {
     "data": {
      "text/html": [
       "<div>\n",
       "<style scoped>\n",
       "    .dataframe tbody tr th:only-of-type {\n",
       "        vertical-align: middle;\n",
       "    }\n",
       "\n",
       "    .dataframe tbody tr th {\n",
       "        vertical-align: top;\n",
       "    }\n",
       "\n",
       "    .dataframe thead th {\n",
       "        text-align: right;\n",
       "    }\n",
       "</style>\n",
       "<table border=\"1\" class=\"dataframe\">\n",
       "  <thead>\n",
       "    <tr style=\"text-align: right;\">\n",
       "      <th></th>\n",
       "      <th>alpha</th>\n",
       "      <th>b_mkt</th>\n",
       "      <th>b_smb</th>\n",
       "      <th>b_hml</th>\n",
       "      <th>ivol</th>\n",
       "      <th>tvol</th>\n",
       "      <th>exret</th>\n",
       "      <th>DATE</th>\n",
       "      <th>tomorrows_exret</th>\n",
       "      <th>val</th>\n",
       "      <th>Trend</th>\n",
       "    </tr>\n",
       "    <tr>\n",
       "      <th>DATE</th>\n",
       "      <th></th>\n",
       "      <th></th>\n",
       "      <th></th>\n",
       "      <th></th>\n",
       "      <th></th>\n",
       "      <th></th>\n",
       "      <th></th>\n",
       "      <th></th>\n",
       "      <th></th>\n",
       "      <th></th>\n",
       "      <th></th>\n",
       "    </tr>\n",
       "  </thead>\n",
       "  <tbody>\n",
       "    <tr>\n",
       "      <th>2019-12-24</th>\n",
       "      <td>0.473684</td>\n",
       "      <td>0.712525</td>\n",
       "      <td>0.115153</td>\n",
       "      <td>0.342235</td>\n",
       "      <td>0.903776</td>\n",
       "      <td>0.757448</td>\n",
       "      <td>0.448935</td>\n",
       "      <td>2019-12-24</td>\n",
       "      <td>0.399701</td>\n",
       "      <td>-0.049235</td>\n",
       "      <td>0</td>\n",
       "    </tr>\n",
       "    <tr>\n",
       "      <th>2019-12-26</th>\n",
       "      <td>0.421053</td>\n",
       "      <td>0.774865</td>\n",
       "      <td>0.099773</td>\n",
       "      <td>0.324666</td>\n",
       "      <td>0.893986</td>\n",
       "      <td>0.712932</td>\n",
       "      <td>0.399701</td>\n",
       "      <td>2019-12-26</td>\n",
       "      <td>0.492008</td>\n",
       "      <td>0.092308</td>\n",
       "      <td>1</td>\n",
       "    </tr>\n",
       "    <tr>\n",
       "      <th>2019-12-27</th>\n",
       "      <td>0.421053</td>\n",
       "      <td>0.772882</td>\n",
       "      <td>0.102314</td>\n",
       "      <td>0.324315</td>\n",
       "      <td>0.893986</td>\n",
       "      <td>0.709208</td>\n",
       "      <td>0.492008</td>\n",
       "      <td>2019-12-27</td>\n",
       "      <td>0.521475</td>\n",
       "      <td>0.029467</td>\n",
       "      <td>1</td>\n",
       "    </tr>\n",
       "    <tr>\n",
       "      <th>2019-12-30</th>\n",
       "      <td>0.421053</td>\n",
       "      <td>0.774299</td>\n",
       "      <td>0.084793</td>\n",
       "      <td>0.327477</td>\n",
       "      <td>0.889790</td>\n",
       "      <td>0.709546</td>\n",
       "      <td>0.521475</td>\n",
       "      <td>2019-12-30</td>\n",
       "      <td>0.452135</td>\n",
       "      <td>-0.069340</td>\n",
       "      <td>0</td>\n",
       "    </tr>\n",
       "    <tr>\n",
       "      <th>2019-12-31</th>\n",
       "      <td>0.421053</td>\n",
       "      <td>0.778549</td>\n",
       "      <td>0.082118</td>\n",
       "      <td>0.321504</td>\n",
       "      <td>0.887832</td>\n",
       "      <td>0.709208</td>\n",
       "      <td>0.452135</td>\n",
       "      <td>2019-12-31</td>\n",
       "      <td>0.000000</td>\n",
       "      <td>0.000000</td>\n",
       "      <td>0</td>\n",
       "    </tr>\n",
       "  </tbody>\n",
       "</table>\n",
       "</div>"
      ],
      "text/plain": [
       "               alpha     b_mkt     b_smb     b_hml      ivol      tvol  \\\n",
       "DATE                                                                     \n",
       "2019-12-24  0.473684  0.712525  0.115153  0.342235  0.903776  0.757448   \n",
       "2019-12-26  0.421053  0.774865  0.099773  0.324666  0.893986  0.712932   \n",
       "2019-12-27  0.421053  0.772882  0.102314  0.324315  0.893986  0.709208   \n",
       "2019-12-30  0.421053  0.774299  0.084793  0.327477  0.889790  0.709546   \n",
       "2019-12-31  0.421053  0.778549  0.082118  0.321504  0.887832  0.709208   \n",
       "\n",
       "               exret       DATE  tomorrows_exret       val  Trend  \n",
       "DATE                                                               \n",
       "2019-12-24  0.448935 2019-12-24         0.399701 -0.049235      0  \n",
       "2019-12-26  0.399701 2019-12-26         0.492008  0.092308      1  \n",
       "2019-12-27  0.492008 2019-12-27         0.521475  0.029467      1  \n",
       "2019-12-30  0.521475 2019-12-30         0.452135 -0.069340      0  \n",
       "2019-12-31  0.452135 2019-12-31         0.000000  0.000000      0  "
      ]
     },
     "execution_count": 108,
     "metadata": {},
     "output_type": "execute_result"
    }
   ],
   "source": [
    "df.tail()"
   ]
  },
  {
   "cell_type": "code",
   "execution_count": 87,
   "metadata": {},
   "outputs": [
    {
     "data": {
      "text/plain": [
       " 1    760\n",
       "-1    749\n",
       " 0      1\n",
       "Name: Trend, dtype: int64"
      ]
     },
     "execution_count": 87,
     "metadata": {},
     "output_type": "execute_result"
    }
   ],
   "source": [
    "df['Trend'].value_counts()"
   ]
  },
  {
   "cell_type": "code",
   "execution_count": 88,
   "metadata": {},
   "outputs": [],
   "source": [
    "#Since there is only 1 value that is 0 , we can change the model and consider it to be low \n",
    "#new model will have trend as 1 if val difference is >0 and 0 if val difference <=0"
   ]
  },
  {
   "cell_type": "code",
   "execution_count": 89,
   "metadata": {},
   "outputs": [],
   "source": [
    "def flag(df):\n",
    "    if(df['val'])>0:\n",
    "        return 1\n",
    "    else:\n",
    "        return 0\n",
    "df['Trend']=df.apply(flag,axis=1)"
   ]
  },
  {
   "cell_type": "code",
   "execution_count": 90,
   "metadata": {},
   "outputs": [],
   "source": [
    "df.head()\n",
    "df.fillna(0,inplace=True)"
   ]
  },
  {
   "cell_type": "code",
   "execution_count": 91,
   "metadata": {},
   "outputs": [
    {
     "data": {
      "image/png": "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\n",
      "text/plain": [
       "<Figure size 432x288 with 1 Axes>"
      ]
     },
     "metadata": {
      "needs_background": "light"
     },
     "output_type": "display_data"
    }
   ],
   "source": [
    "from sklearn.ensemble import RandomForestRegressor\n",
    "import pylab as pl\n",
    "import numpy as np\n",
    "features=np.array(['alpha','b_mkt','b_smb','b_hml','ivol','tvol','exret'])\n",
    "clf = RandomForestRegressor()\n",
    "\n",
    "clf.fit(df[features],df['Trend'])\n",
    "\n",
    "importances = clf.feature_importances_\n",
    "sorted_idx = np.argsort(importances)\n",
    "padding = np.arange(len(features)) \n",
    "pl.barh(padding, importances[sorted_idx], align='center')\n",
    "pl.yticks(padding, features[sorted_idx])\n",
    "pl.xlabel(\"Relative Importance\")\n",
    "pl.title(\"Variable Importance\")\n",
    "pl.show()"
   ]
  },
  {
   "cell_type": "code",
   "execution_count": 93,
   "metadata": {},
   "outputs": [],
   "source": [
    "#since value of alpha is less tha 0.1 I will drop that variable"
   ]
  },
  {
   "cell_type": "code",
   "execution_count": 122,
   "metadata": {},
   "outputs": [
    {
     "data": {
      "text/html": [
       "<div>\n",
       "<style scoped>\n",
       "    .dataframe tbody tr th:only-of-type {\n",
       "        vertical-align: middle;\n",
       "    }\n",
       "\n",
       "    .dataframe tbody tr th {\n",
       "        vertical-align: top;\n",
       "    }\n",
       "\n",
       "    .dataframe thead th {\n",
       "        text-align: right;\n",
       "    }\n",
       "</style>\n",
       "<table border=\"1\" class=\"dataframe\">\n",
       "  <thead>\n",
       "    <tr style=\"text-align: right;\">\n",
       "      <th></th>\n",
       "      <th>alpha</th>\n",
       "      <th>b_mkt</th>\n",
       "      <th>b_smb</th>\n",
       "      <th>b_hml</th>\n",
       "      <th>ivol</th>\n",
       "      <th>tvol</th>\n",
       "      <th>exret</th>\n",
       "      <th>DATE</th>\n",
       "      <th>tomorrows_exret</th>\n",
       "      <th>val</th>\n",
       "      <th>Trend</th>\n",
       "    </tr>\n",
       "    <tr>\n",
       "      <th>DATE</th>\n",
       "      <th></th>\n",
       "      <th></th>\n",
       "      <th></th>\n",
       "      <th></th>\n",
       "      <th></th>\n",
       "      <th></th>\n",
       "      <th></th>\n",
       "      <th></th>\n",
       "      <th></th>\n",
       "      <th></th>\n",
       "      <th></th>\n",
       "    </tr>\n",
       "  </thead>\n",
       "  <tbody>\n",
       "    <tr>\n",
       "      <th>2019-01-02</th>\n",
       "      <td>0.736842</td>\n",
       "      <td>0.579059</td>\n",
       "      <td>0.232446</td>\n",
       "      <td>0.734540</td>\n",
       "      <td>0.436364</td>\n",
       "      <td>0.749492</td>\n",
       "      <td>0.324142</td>\n",
       "      <td>2019-01-02</td>\n",
       "      <td>0.441647</td>\n",
       "      <td>0.117505</td>\n",
       "      <td>1</td>\n",
       "    </tr>\n",
       "    <tr>\n",
       "      <th>2019-01-03</th>\n",
       "      <td>0.736842</td>\n",
       "      <td>0.579626</td>\n",
       "      <td>0.220677</td>\n",
       "      <td>0.720661</td>\n",
       "      <td>0.434685</td>\n",
       "      <td>0.769973</td>\n",
       "      <td>0.441647</td>\n",
       "      <td>2019-01-03</td>\n",
       "      <td>0.548893</td>\n",
       "      <td>0.107247</td>\n",
       "      <td>1</td>\n",
       "    </tr>\n",
       "    <tr>\n",
       "      <th>2019-01-04</th>\n",
       "      <td>0.736842</td>\n",
       "      <td>0.590819</td>\n",
       "      <td>0.236325</td>\n",
       "      <td>0.728391</td>\n",
       "      <td>0.431608</td>\n",
       "      <td>0.808395</td>\n",
       "      <td>0.548893</td>\n",
       "      <td>2019-01-04</td>\n",
       "      <td>0.515058</td>\n",
       "      <td>-0.033835</td>\n",
       "      <td>0</td>\n",
       "    </tr>\n",
       "    <tr>\n",
       "      <th>2019-01-07</th>\n",
       "      <td>0.736842</td>\n",
       "      <td>0.589827</td>\n",
       "      <td>0.244483</td>\n",
       "      <td>0.720836</td>\n",
       "      <td>0.429091</td>\n",
       "      <td>0.808903</td>\n",
       "      <td>0.515058</td>\n",
       "      <td>2019-01-07</td>\n",
       "      <td>0.583403</td>\n",
       "      <td>0.068344</td>\n",
       "      <td>1</td>\n",
       "    </tr>\n",
       "    <tr>\n",
       "      <th>2019-01-08</th>\n",
       "      <td>0.736842</td>\n",
       "      <td>0.592519</td>\n",
       "      <td>0.260800</td>\n",
       "      <td>0.718201</td>\n",
       "      <td>0.433846</td>\n",
       "      <td>0.814320</td>\n",
       "      <td>0.583403</td>\n",
       "      <td>2019-01-08</td>\n",
       "      <td>0.669861</td>\n",
       "      <td>0.086459</td>\n",
       "      <td>1</td>\n",
       "    </tr>\n",
       "  </tbody>\n",
       "</table>\n",
       "</div>"
      ],
      "text/plain": [
       "               alpha     b_mkt     b_smb     b_hml      ivol      tvol  \\\n",
       "DATE                                                                     \n",
       "2019-01-02  0.736842  0.579059  0.232446  0.734540  0.436364  0.749492   \n",
       "2019-01-03  0.736842  0.579626  0.220677  0.720661  0.434685  0.769973   \n",
       "2019-01-04  0.736842  0.590819  0.236325  0.728391  0.431608  0.808395   \n",
       "2019-01-07  0.736842  0.589827  0.244483  0.720836  0.429091  0.808903   \n",
       "2019-01-08  0.736842  0.592519  0.260800  0.718201  0.433846  0.814320   \n",
       "\n",
       "               exret       DATE  tomorrows_exret       val  Trend  \n",
       "DATE                                                               \n",
       "2019-01-02  0.324142 2019-01-02         0.441647  0.117505      1  \n",
       "2019-01-03  0.441647 2019-01-03         0.548893  0.107247      1  \n",
       "2019-01-04  0.548893 2019-01-04         0.515058 -0.033835      0  \n",
       "2019-01-07  0.515058 2019-01-07         0.583403  0.068344      1  \n",
       "2019-01-08  0.583403 2019-01-08         0.669861  0.086459      1  "
      ]
     },
     "execution_count": 122,
     "metadata": {},
     "output_type": "execute_result"
    }
   ],
   "source": [
    "train=df[:'2019-01-01']\n",
    "test=df['2019-01-01':]"
   ]
  },
  {
   "cell_type": "code",
   "execution_count": 110,
   "metadata": {},
   "outputs": [],
   "source": [
    "X_train=train[['b_mkt','b_smb','b_hml','ivol','tvol','exret']]\n",
    "y_train=train['Trend']\n",
    "X_test=test[['b_mkt','b_smb','b_hml','ivol','tvol','exret']]\n",
    "y_test=test['Trend']"
   ]
  },
  {
   "cell_type": "markdown",
   "metadata": {},
   "source": [
    "# KNN"
   ]
  },
  {
   "cell_type": "code",
   "execution_count": 126,
   "metadata": {},
   "outputs": [],
   "source": [
    "from sklearn.model_selection import cross_val_score\n",
    "from sklearn.neighbors import KNeighborsClassifier"
   ]
  },
  {
   "cell_type": "code",
   "execution_count": 127,
   "metadata": {},
   "outputs": [
    {
     "name": "stdout",
     "output_type": "stream",
     "text": [
      "Neighbours= 2 CV_Score= [0.57936508 0.52380952 0.54761905 0.54761905 0.5        0.61111111\n",
      " 0.55555556 0.52380952 0.608      0.656     ]\n",
      "Neighbours= 3 CV_Score= [0.62698413 0.57142857 0.56349206 0.57936508 0.56349206 0.61904762\n",
      " 0.53968254 0.57142857 0.632      0.688     ]\n",
      "Neighbours= 4 CV_Score= [0.64285714 0.54761905 0.61111111 0.53968254 0.52380952 0.61904762\n",
      " 0.56349206 0.58730159 0.64       0.68      ]\n",
      "Neighbours= 5 CV_Score= [0.66666667 0.5952381  0.57142857 0.54761905 0.57936508 0.61904762\n",
      " 0.56349206 0.58730159 0.656      0.712     ]\n",
      "Neighbours= 6 CV_Score= [0.65873016 0.57936508 0.62698413 0.53968254 0.57936508 0.64285714\n",
      " 0.58730159 0.58730159 0.688      0.712     ]\n",
      "Neighbours= 7 CV_Score= [0.65079365 0.62698413 0.58730159 0.54761905 0.58730159 0.61904762\n",
      " 0.57142857 0.61904762 0.688      0.68      ]\n",
      "Neighbours= 8 CV_Score= [0.65079365 0.57936508 0.57142857 0.52380952 0.5952381  0.63492063\n",
      " 0.57142857 0.64285714 0.728      0.696     ]\n",
      "Neighbours= 9 CV_Score= [0.64285714 0.63492063 0.58730159 0.54761905 0.61904762 0.61111111\n",
      " 0.57142857 0.61904762 0.696      0.664     ]\n",
      "Neighbours= 10 CV_Score= [0.62698413 0.57936508 0.5952381  0.54761905 0.6031746  0.61111111\n",
      " 0.62698413 0.64285714 0.744      0.688     ]\n"
     ]
    }
   ],
   "source": [
    "KNN=pd.DataFrame()\n",
    "for i in range(2,11):\n",
    "    model = KNeighborsClassifier(n_neighbors=i)\n",
    "    model.fit(X_train,y_train)\n",
    "    cv=cross_val_score(model, X_train, y_train, cv=10,scoring=\"accuracy\")\n",
    "    print(\"Neighbours=\",i,\"CV_Score=\",cv)"
   ]
  },
  {
   "cell_type": "code",
   "execution_count": 128,
   "metadata": {},
   "outputs": [
    {
     "name": "stdout",
     "output_type": "stream",
     "text": [
      "ROC_AUC: 0.7063492063492064\n"
     ]
    }
   ],
   "source": [
    "from sklearn.metrics import roc_auc_score\n",
    "from sklearn.metrics import roc_curve\n",
    "import matplotlib.pyplot as plt\n",
    "\n",
    "# Get the probability of y_test records being = 1\n",
    "y_test_probability_1 = model.predict_proba(X_test)[:, 1]\n",
    "\n",
    "# Use the metrics.roc_curve function to get the true positive rate (tpr) and false positive rate (fpr)\n",
    "fpr1, tpr1, thresholds1 = roc_curve(y_test, y_test_probability_1)\n",
    "\n",
    "# Get the area under the curve (AUC)\n",
    "roc_auc = roc_auc_score(y_test, model.predict(X_test))\n",
    "print(\"ROC_AUC:\",roc_auc)"
   ]
  },
  {
   "cell_type": "code",
   "execution_count": 129,
   "metadata": {},
   "outputs": [
    {
     "data": {
      "image/png": "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\n",
      "text/plain": [
       "<Figure size 432x288 with 1 Axes>"
      ]
     },
     "metadata": {
      "needs_background": "light"
     },
     "output_type": "display_data"
    }
   ],
   "source": [
    "plt.plot(fpr1, tpr1, label='KNN (area = %0.2f)' % roc_auc)\n",
    "plt.xlim([0.0, 1.0])\n",
    "plt.ylim([0.0, 1.05])\n",
    "plt.xlabel('False Positive Rate')\n",
    "plt.ylabel('True Positive Rate')\n",
    "plt.title('Receiver operating characteristic')\n",
    "plt.legend(loc=\"lower right\")\n",
    "plt.show()"
   ]
  },
  {
   "cell_type": "markdown",
   "metadata": {},
   "source": [
    "# DecisionTree"
   ]
  },
  {
   "cell_type": "code",
   "execution_count": 115,
   "metadata": {},
   "outputs": [
    {
     "data": {
      "text/plain": [
       "array([0.62698413, 0.61904762, 0.71428571, 0.6031746 , 0.56349206,\n",
       "       0.57142857, 0.56349206, 0.57936508, 0.648     , 0.664     ])"
      ]
     },
     "execution_count": 115,
     "metadata": {},
     "output_type": "execute_result"
    }
   ],
   "source": [
    "from sklearn.tree import DecisionTreeClassifier\n",
    "modelDT=DecisionTreeClassifier()\n",
    "modelDT.fit(X_train,y_train)\n",
    "cross_val_score(modelDT, X_train, y_train, cv=10,scoring=\"accuracy\")    "
   ]
  },
  {
   "cell_type": "code",
   "execution_count": 116,
   "metadata": {},
   "outputs": [
    {
     "name": "stdout",
     "output_type": "stream",
     "text": [
      "ROC_AUC: 0.5753968253968254\n"
     ]
    }
   ],
   "source": [
    "# Get the probability of y_test records being = 1\n",
    "y_test_probability_2 = modelDT.predict_proba(X_test)[:,1]\n",
    "\n",
    "# Use the metrics.roc_curve function to get the true positive rate (tpr) and false positive rate (fpr)\n",
    "fpr2, tpr2, thresholds1 = roc_curve(y_test, y_test_probability_2)\n",
    "\n",
    "# Get the area under the curve (AUC)\n",
    "roc_auc2 = roc_auc_score(y_test, modelDT.predict(X_test))\n",
    "print(\"ROC_AUC:\",roc_auc2)"
   ]
  },
  {
   "cell_type": "code",
   "execution_count": 117,
   "metadata": {},
   "outputs": [
    {
     "data": {
      "image/png": "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\n",
      "text/plain": [
       "<Figure size 432x288 with 1 Axes>"
      ]
     },
     "metadata": {
      "needs_background": "light"
     },
     "output_type": "display_data"
    }
   ],
   "source": [
    "plt.plot(fpr2, tpr2 ,label='DecisionTree (area = %0.2f)' % roc_auc2)\n",
    "plt.xlim([0.0, 1.0])\n",
    "plt.ylim([0.0, 1.05])\n",
    "plt.xlabel('False Positive Rate')\n",
    "plt.ylabel('True Positive Rate')\n",
    "plt.title('Receiver operating characteristic')\n",
    "plt.legend(loc=\"lower right\")\n",
    "plt.show()"
   ]
  },
  {
   "cell_type": "markdown",
   "metadata": {},
   "source": [
    "# XGBOOST"
   ]
  },
  {
   "cell_type": "code",
   "execution_count": 118,
   "metadata": {},
   "outputs": [
    {
     "data": {
      "text/plain": [
       "array([0.68253968, 0.72222222, 0.69047619, 0.65873016, 0.73809524,\n",
       "       0.6984127 , 0.65873016, 0.64285714, 0.68      , 0.68      ])"
      ]
     },
     "execution_count": 118,
     "metadata": {},
     "output_type": "execute_result"
    }
   ],
   "source": [
    "import xgboost as xgb\n",
    "modelXG=xgb.XGBClassifier()\n",
    "modelXG.fit(X_train,y_train)\n",
    "cross_val_score(modelXG, X_train, y_train, cv=10,scoring=\"accuracy\")    "
   ]
  },
  {
   "cell_type": "code",
   "execution_count": 119,
   "metadata": {},
   "outputs": [
    {
     "name": "stdout",
     "output_type": "stream",
     "text": [
      "ROC_AUC: 0.7103174603174602\n"
     ]
    }
   ],
   "source": [
    "# Get the probability of y_test records being = 1\n",
    "y_test_probability_3 = modelXG.predict_proba(X_test)[:, 1]\n",
    "\n",
    "# Use the metrics.roc_curve function to get the true positive rate (tpr) and false positive rate (fpr)\n",
    "fpr3, tpr3, thresholds3 = roc_curve(y_test, y_test_probability_3)\n",
    "\n",
    "# Get the area under the curve (AUC)\n",
    "roc_auc3 = roc_auc_score(y_test, modelXG.predict(X_test))\n",
    "print(\"ROC_AUC:\",roc_auc3)"
   ]
  },
  {
   "cell_type": "code",
   "execution_count": 120,
   "metadata": {},
   "outputs": [
    {
     "data": {
      "image/png": "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\n",
      "text/plain": [
       "<Figure size 432x288 with 1 Axes>"
      ]
     },
     "metadata": {
      "needs_background": "light"
     },
     "output_type": "display_data"
    }
   ],
   "source": [
    "plt.plot(fpr3, tpr3, label='XGBoost (area = %0.2f)' % roc_auc3)\n",
    "plt.xlim([0.0, 1.0])\n",
    "plt.ylim([0.0, 1.05])\n",
    "plt.xlabel('False Positive Rate')\n",
    "plt.ylabel('True Positive Rate')\n",
    "plt.title('Receiver operating characteristic')\n",
    "plt.legend(loc=\"lower right\")\n",
    "plt.show()"
   ]
  },
  {
   "cell_type": "code",
   "execution_count": 104,
   "metadata": {},
   "outputs": [],
   "source": [
    "#since XGboost has the best ROC I will use Xgboost in gridsearch to see if I can have better ROC-AUC value"
   ]
  },
  {
   "cell_type": "markdown",
   "metadata": {},
   "source": [
    "# GridSearch with XGBoost"
   ]
  },
  {
   "cell_type": "code",
   "execution_count": 130,
   "metadata": {},
   "outputs": [
    {
     "data": {
      "text/plain": [
       "GridSearchCV(estimator=XGBClassifier(base_score=0.5, booster='gbtree',\n",
       "                                     colsample_bylevel=1, colsample_bynode=1,\n",
       "                                     colsample_bytree=1, gamma=0, gpu_id=-1,\n",
       "                                     importance_type='gain',\n",
       "                                     interaction_constraints='',\n",
       "                                     learning_rate=0.300000012,\n",
       "                                     max_delta_step=0, max_depth=6,\n",
       "                                     min_child_weight=1, missing=nan,\n",
       "                                     monotone_constraints='()',\n",
       "                                     n_estimators=100, n_jobs=0,\n",
       "                                     num_parallel_tree=1, random_state=0,\n",
       "                                     reg_alpha=0, reg_lambda=1,\n",
       "                                     scale_pos_weight=1, subsample=1,\n",
       "                                     tree_method='exact', validate_parameters=1,\n",
       "                                     verbosity=None),\n",
       "             param_grid={'eta': [0.1, 0.2, 0.3, 0.5, 0.7, 0.9, 1],\n",
       "                         'gamma': [0, 1, 3, 5, 9],\n",
       "                         'max_depth': [1, 3, 6, 8, 10],\n",
       "                         'min_child_weight': [1, 2, 3]})"
      ]
     },
     "execution_count": 130,
     "metadata": {},
     "output_type": "execute_result"
    }
   ],
   "source": [
    "from sklearn.model_selection import GridSearchCV\n",
    "parameters={'eta':[0.1,0.2,0.3,0.5,0.7,0.9,1],'max_depth':[1,3,6,8,10],'min_child_weight':[1,2,3],'gamma':[0,1,3,5,9]}\n",
    "GS = GridSearchCV(modelXG, parameters)\n",
    "GS.fit(X_train,y_train)\n"
   ]
  },
  {
   "cell_type": "code",
   "execution_count": 131,
   "metadata": {},
   "outputs": [
    {
     "data": {
      "text/plain": [
       "0.7535477139062797"
      ]
     },
     "execution_count": 131,
     "metadata": {},
     "output_type": "execute_result"
    }
   ],
   "source": [
    "GS.best_score_"
   ]
  },
  {
   "cell_type": "code",
   "execution_count": 132,
   "metadata": {},
   "outputs": [
    {
     "data": {
      "text/plain": [
       "{'eta': 0.1, 'gamma': 9, 'max_depth': 6, 'min_child_weight': 2}"
      ]
     },
     "execution_count": 132,
     "metadata": {},
     "output_type": "execute_result"
    }
   ],
   "source": [
    "GS.best_params_"
   ]
  },
  {
   "cell_type": "code",
   "execution_count": 133,
   "metadata": {},
   "outputs": [],
   "source": [
    "predicted=GS.predict(X_test)"
   ]
  },
  {
   "cell_type": "code",
   "execution_count": 134,
   "metadata": {},
   "outputs": [
    {
     "data": {
      "text/plain": [
       "0.753968253968254"
      ]
     },
     "execution_count": 134,
     "metadata": {},
     "output_type": "execute_result"
    }
   ],
   "source": [
    "from sklearn.metrics import accuracy_score\n",
    "accuracy_score(predicted,y_test)"
   ]
  },
  {
   "cell_type": "code",
   "execution_count": 135,
   "metadata": {},
   "outputs": [
    {
     "data": {
      "text/plain": [
       "array([1], dtype=int64)"
      ]
     },
     "execution_count": 135,
     "metadata": {},
     "output_type": "execute_result"
    }
   ],
   "source": [
    "GS.predict(X_test.tail(1))"
   ]
  },
  {
   "cell_type": "markdown",
   "metadata": {},
   "source": [
    "1)Present and DISCUSS the results of your Python program, answering the above questions. \n",
    "\n",
    "From the abouve analysis,we see that the highest accuracy we attain in any algorithm is 75%. This is a decent score to  a client with confidence whether he should buy hold or sell. \n",
    "\n",
    "In the program above the only one data point had no change in the return , 760 points had high return and 749 points had low return\n",
    "since the data was almost evenly distributed in high and low return and there was only one point with no change in the return so  I combined the no change in return data in the low return dataset.\n",
    "My new data set had Tred as 1 if the next day exrate was higher than previous day and it was 0 it the nect day exrate was lower or equal to zero as compared to previous day/\n"
   ]
  },
  {
   "cell_type": "markdown",
   "metadata": {},
   "source": [
    "2) Write a conclusive paragraph about the quality of the forecast of your stock. Indicate if you\n",
    "suggest to your client buy, sell, or do not trade the stock under evaluation for the first day of 2020 \n",
    "\n",
    "Since the model with I have build is 75% accurate in predicting the next days trend, I can with certain confidence tell my client regarding trading strategy. Since my model predicts that the return for stock TMO will go up , I will suggest my client to buy more stock at the start of the trading day to capatilise on the returns. "
   ]
  }
 ],
 "metadata": {
  "kernelspec": {
   "display_name": "Python 3",
   "language": "python",
   "name": "python3"
  },
  "language_info": {
   "codemirror_mode": {
    "name": "ipython",
    "version": 3
   },
   "file_extension": ".py",
   "mimetype": "text/x-python",
   "name": "python",
   "nbconvert_exporter": "python",
   "pygments_lexer": "ipython3",
   "version": "3.8.3"
  }
 },
 "nbformat": 4,
 "nbformat_minor": 4
}
